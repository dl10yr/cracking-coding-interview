{
 "cells": [
  {
   "cell_type": "code",
   "execution_count": 40,
   "metadata": {},
   "outputs": [
    {
     "name": "stdout",
     "output_type": "stream",
     "text": [
      "66012\n"
     ]
    }
   ],
   "source": [
    "##8-1\n",
    "def getCountWays(n):\n",
    "    if n < 0:\n",
    "        return 0\n",
    "    elif n == 1:\n",
    "        return 1\n",
    "    else:\n",
    "        return getCountWays(n - 1) + getCountWays(n - 2) + getCountWays(n -3)\n",
    "\n",
    "\n",
    "import sys\n",
    "from functools import reduce\n",
    "from operator import add\n",
    "\n",
    "n = 20\n",
    "memo = [1] + [0] * (n - 1)\n",
    "steps = [1, 2, 3]\n",
    "\n",
    "def getCountWaysMemo(n):\n",
    "    if memo[n - 1] > 0: \n",
    "        return memo[n - 1]\n",
    "    elif memo[n - 1] == 0:\n",
    "        func_list = [getCountWaysMemo(n-k) for k in steps if n-k >= 1]\n",
    "        memo[n - 1] = reduce(add, func_list)\n",
    "        return memo[n - 1]\n",
    "\n",
    "\n",
    "print(getCountWaysMemo(n))"
   ]
  },
  {
   "cell_type": "code",
   "execution_count": 39,
   "metadata": {},
   "outputs": [
    {
     "data": {
      "text/plain": [
       "66012"
      ]
     },
     "execution_count": 39,
     "metadata": {},
     "output_type": "execute_result"
    }
   ],
   "source": [
    "getCountWays(20)"
   ]
  },
  {
   "cell_type": "code",
   "execution_count": 16,
   "metadata": {},
   "outputs": [
    {
     "data": {
      "text/plain": [
       "66012"
      ]
     },
     "execution_count": 16,
     "metadata": {},
     "output_type": "execute_result"
    }
   ],
   "source": [
    "getCoungWaysMemo(19)"
   ]
  },
  {
   "cell_type": "code",
   "execution_count": 22,
   "metadata": {},
   "outputs": [
    {
     "name": "stdout",
     "output_type": "stream",
     "text": [
      "[1, 0, 0, 0, 0, 0, 0, 0, 0, 0, 0, 0, 0, 0, 0, 0, 0, 0, 0, 0]\n"
     ]
    }
   ],
   "source": [
    "memo = [1] + [0] * (n - 1)\n",
    "print(memo)"
   ]
  },
  {
   "cell_type": "code",
   "execution_count": 24,
   "metadata": {},
   "outputs": [
    {
     "data": {
      "text/plain": [
       "20"
      ]
     },
     "execution_count": 24,
     "metadata": {},
     "output_type": "execute_result"
    }
   ],
   "source": [
    "len(memo)"
   ]
  },
  {
   "cell_type": "code",
   "execution_count": null,
   "metadata": {},
   "outputs": [],
   "source": []
  }
 ],
 "metadata": {
  "kernelspec": {
   "display_name": "Python 3",
   "language": "python",
   "name": "python3"
  },
  "language_info": {
   "codemirror_mode": {
    "name": "ipython",
    "version": 3
   },
   "file_extension": ".py",
   "mimetype": "text/x-python",
   "name": "python",
   "nbconvert_exporter": "python",
   "pygments_lexer": "ipython3",
   "version": "3.7.6"
  }
 },
 "nbformat": 4,
 "nbformat_minor": 4
}

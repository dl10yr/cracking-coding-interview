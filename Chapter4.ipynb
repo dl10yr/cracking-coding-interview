{
 "cells": [
  {
   "cell_type": "code",
   "execution_count": 20,
   "metadata": {},
   "outputs": [
    {
     "name": "stdout",
     "output_type": "stream",
     "text": [
      "[[], [2], [1, 3, 4], [2, 4], [3, 2]]\n",
      "[2]\n",
      "2\n",
      "[1, 3, 4]\n",
      "1\n",
      "[1, 3, 4]\n",
      "3\n",
      "[1, 3, 4]\n",
      "4\n",
      "[2, 4]\n",
      "2\n",
      "[2, 4]\n",
      "4\n",
      "[3, 2]\n",
      "3\n",
      "[3, 2]\n",
      "2\n",
      "0\n",
      "1\n",
      "2\n",
      "2\n"
     ]
    }
   ],
   "source": [
    "from collections import deque\n",
    "\n",
    "n = 4\n",
    "nodes =[[1, 2], [2, 3], [3, 4], [4, 2]]\n",
    "\n",
    "graph = [[] for _ in range(n+1)]\n",
    "\n",
    "for i in range(len(nodes)):\n",
    "    a, b = nodes[i]\n",
    "    graph[a].append(b)\n",
    "    graph[b].append(a)\n",
    "\n",
    "dist = [-1] * (n+1)\n",
    "dist[0] = 0\n",
    "dist[1] = 0\n",
    "\n",
    "d = deque()\n",
    "d.append(1)\n",
    "\n",
    "while d:\n",
    "    v = d.popleft()\n",
    "    for i in graph[v]:\n",
    "        if dist[i] != -1:\n",
    "            continue\n",
    "        dist[i] = dist[v] + 1\n",
    "        d.append(i)\n",
    "\n",
    "ans = dist[1:]\n",
    "print(*ans, sep=\"\\n\")"
   ]
  },
  {
   "cell_type": "code",
   "execution_count": null,
   "metadata": {},
   "outputs": [],
   "source": []
  }
 ],
 "metadata": {
  "kernelspec": {
   "display_name": "Python 3",
   "language": "python",
   "name": "python3"
  },
  "language_info": {
   "codemirror_mode": {
    "name": "ipython",
    "version": 3
   },
   "file_extension": ".py",
   "mimetype": "text/x-python",
   "name": "python",
   "nbconvert_exporter": "python",
   "pygments_lexer": "ipython3",
   "version": "3.7.6"
  }
 },
 "nbformat": 4,
 "nbformat_minor": 4
}
